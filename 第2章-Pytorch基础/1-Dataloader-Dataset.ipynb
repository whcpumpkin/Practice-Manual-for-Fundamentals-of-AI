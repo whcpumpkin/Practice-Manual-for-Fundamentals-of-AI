{
 "cells": [
  {
   "cell_type": "markdown",
   "metadata": {},
   "source": [
    "## 基本概念\n",
    "\n",
    "在PyTorch中，Dataset和DataLoader是数据加载的核心组件。\n",
    "\n",
    "Dataset：定义数据的组织和预处理。\n",
    "\n",
    "DataLoader：批量加载数据，支持多进程加速和数据打乱。\n",
    "\n",
    "首先导入必要的库。"
   ]
  },
  {
   "cell_type": "code",
   "execution_count": 1,
   "metadata": {},
   "outputs": [],
   "source": [
    "import torch\n",
    "from torch.utils.data import Dataset, DataLoader\n",
    "import matplotlib.pyplot as plt\n",
    "import numpy as np"
   ]
  },
  {
   "cell_type": "markdown",
   "metadata": {},
   "source": [
    "## 自定义Dataset类\n",
    "\n",
    "继承Dataset并实现__len__和__getitem__方法。一般在__getitem__方法中，可以对数据进行一些预处理。\n",
    "\n",
    "这两个方法是核心，__len__方法返回数据集的长度，__getitem__方法返回数据集中第idx个样本。对于Dataloader而言，只需要知道数据集的长度和如何获取数据，然后其他都有封装好的采样方法。"
   ]
  },
  {
   "cell_type": "code",
   "execution_count": 2,
   "metadata": {},
   "outputs": [],
   "source": [
    "class CustomDataset(Dataset):\n",
    "    def __init__(self, data, labels, transform=None):\n",
    "        self.data = data\n",
    "        self.labels = labels\n",
    "        self.transform = transform  # 数据增强函数（可选）\n",
    "\n",
    "    def __len__(self):\n",
    "        return len(self.data)\n",
    "\n",
    "    def __getitem__(self, idx):\n",
    "        sample = {\n",
    "            'input': torch.tensor(self.data[idx], dtype=torch.float32),\n",
    "            'label': torch.tensor(self.labels[idx], dtype=torch.long)\n",
    "        }\n",
    "        if self.transform:\n",
    "            sample = self.transform(sample)\n",
    "        return sample"
   ]
  },
  {
   "cell_type": "markdown",
   "metadata": {},
   "source": [
    "## 创建虚拟数据并测试Dataset\n",
    "一般来说数据集的来源可以是别人已经做好的数据集，按照某种规则存放，__gititem__就需要按照这种规则读取，然后return。\n",
    "\n",
    "我们也可以创建自己的数据集，比如收集一些图片和他们的标签。\n",
    "\n",
    "下面我们来创建一个虚拟数据集，100个样本，每个样本是10维特征"
   ]
  },
  {
   "cell_type": "code",
   "execution_count": 3,
   "metadata": {},
   "outputs": [
    {
     "name": "stdout",
     "output_type": "stream",
     "text": [
      "数据集大小: 100\n",
      "样本输入形状: torch.Size([10])\n",
      "样本标签: 0\n"
     ]
    }
   ],
   "source": [
    "# 生成虚拟数据：100个样本，每个样本是10维特征\n",
    "data = np.random.randn(100, 10)\n",
    "labels = np.random.randint(0, 2, size=(100,))\n",
    "\n",
    "# 实例化Dataset\n",
    "dataset = CustomDataset(data, labels)\n",
    "\n",
    "# 测试__len__\n",
    "print(\"数据集大小:\", len(dataset))  # 输出: 100\n",
    "\n",
    "# 测试__getitem__\n",
    "sample = dataset.__getitem__(0)\n",
    "print(\"样本输入形状:\", sample['input'].shape)  # torch.Size([10])\n",
    "print(\"样本标签:\", sample['label'].item())     # 0或1"
   ]
  },
  {
   "cell_type": "markdown",
   "metadata": {},
   "source": [
    "## 使用DataLoader加载数据\n",
    "\n",
    "在下方代码中，有4个参数，我们分别介绍。更为详细的参数请查看https://pytorch.org/tutorials/beginner/basics/data_tutorial.html\n",
    "\n",
    "- `dataset`：数据集，可以是`Dataset`类或`IterableDataset`类。每次遍历的时候，Dataloader会自动调用Dataset的`__getitem__`方法来获取数据。\n",
    "- `batch_size`：每次返回的batch大小。\n",
    "- `shuffle`：是否打乱数据集。训练时建议设置为True，验证时设置为False。\n",
    "- `num_workers`：多线程加载数据。这个意思是，Dataloader会创建多个线程来并行调用`__getitem__`方法，从而提高数据读取速度。一般根据CPU核心数目设置成4、8、16、32等。"
   ]
  },
  {
   "cell_type": "code",
   "execution_count": 4,
   "metadata": {},
   "outputs": [],
   "source": [
    "dataloader = DataLoader(\n",
    "    dataset,\n",
    "    batch_size=4,\n",
    "    shuffle=True,\n",
    "    num_workers=0  # Windows用户可能需要设置为0\n",
    ")"
   ]
  },
  {
   "cell_type": "code",
   "execution_count": 5,
   "metadata": {},
   "outputs": [
    {
     "name": "stdout",
     "output_type": "stream",
     "text": [
      "Batch 0: 输入形状 torch.Size([4, 10]), 标签形状 torch.Size([4])\n",
      "Batch 1: 输入形状 torch.Size([4, 10]), 标签形状 torch.Size([4])\n",
      "Batch 2: 输入形状 torch.Size([4, 10]), 标签形状 torch.Size([4])\n"
     ]
    }
   ],
   "source": [
    "# 遍历一个batch\n",
    "for i, batch in enumerate(dataloader):\n",
    "    inputs = batch['input']\n",
    "    labels = batch['label']\n",
    "    print(f\"Batch {i}: 输入形状 {inputs.shape}, 标签形状 {labels.shape}\")\n",
    "    if i == 2:  # 仅展示前3个batch\n",
    "        break\n"
   ]
  },
  {
   "cell_type": "code",
   "execution_count": 6,
   "metadata": {},
   "outputs": [
    {
     "name": "stdout",
     "output_type": "stream",
     "text": [
      "Batch 0: 输入形状 torch.Size([4, 10]), 标签形状 torch.Size([4])\n",
      "Batch 1: 输入形状 torch.Size([4, 10]), 标签形状 torch.Size([4])\n",
      "Batch 2: 输入形状 torch.Size([4, 10]), 标签形状 torch.Size([4])\n",
      "Batch 3: 输入形状 torch.Size([4, 10]), 标签形状 torch.Size([4])\n",
      "Batch 4: 输入形状 torch.Size([4, 10]), 标签形状 torch.Size([4])\n",
      "Batch 5: 输入形状 torch.Size([4, 10]), 标签形状 torch.Size([4])\n",
      "Batch 6: 输入形状 torch.Size([4, 10]), 标签形状 torch.Size([4])\n",
      "Batch 7: 输入形状 torch.Size([4, 10]), 标签形状 torch.Size([4])\n",
      "Batch 8: 输入形状 torch.Size([4, 10]), 标签形状 torch.Size([4])\n",
      "Batch 9: 输入形状 torch.Size([4, 10]), 标签形状 torch.Size([4])\n",
      "Batch 10: 输入形状 torch.Size([4, 10]), 标签形状 torch.Size([4])\n",
      "Batch 11: 输入形状 torch.Size([4, 10]), 标签形状 torch.Size([4])\n",
      "Batch 12: 输入形状 torch.Size([4, 10]), 标签形状 torch.Size([4])\n",
      "Batch 13: 输入形状 torch.Size([4, 10]), 标签形状 torch.Size([4])\n",
      "Batch 14: 输入形状 torch.Size([4, 10]), 标签形状 torch.Size([4])\n",
      "Batch 15: 输入形状 torch.Size([4, 10]), 标签形状 torch.Size([4])\n",
      "Batch 16: 输入形状 torch.Size([4, 10]), 标签形状 torch.Size([4])\n",
      "Batch 17: 输入形状 torch.Size([4, 10]), 标签形状 torch.Size([4])\n",
      "Batch 18: 输入形状 torch.Size([4, 10]), 标签形状 torch.Size([4])\n",
      "Batch 19: 输入形状 torch.Size([4, 10]), 标签形状 torch.Size([4])\n",
      "Batch 20: 输入形状 torch.Size([4, 10]), 标签形状 torch.Size([4])\n",
      "Batch 21: 输入形状 torch.Size([4, 10]), 标签形状 torch.Size([4])\n",
      "Batch 22: 输入形状 torch.Size([4, 10]), 标签形状 torch.Size([4])\n",
      "Batch 23: 输入形状 torch.Size([4, 10]), 标签形状 torch.Size([4])\n",
      "Batch 24: 输入形状 torch.Size([4, 10]), 标签形状 torch.Size([4])\n"
     ]
    }
   ],
   "source": [
    "# 遍历一个epoch\n",
    "for i, batch in enumerate(dataloader):\n",
    "    inputs = batch['input']\n",
    "    labels = batch['label']\n",
    "    print(f\"Batch {i}: 输入形状 {inputs.shape}, 标签形状 {labels.shape}\")"
   ]
  }
 ],
 "metadata": {
  "kernelspec": {
   "display_name": "aibasis",
   "language": "python",
   "name": "python3"
  },
  "language_info": {
   "codemirror_mode": {
    "name": "ipython",
    "version": 3
   },
   "file_extension": ".py",
   "mimetype": "text/x-python",
   "name": "python",
   "nbconvert_exporter": "python",
   "pygments_lexer": "ipython3",
   "version": "3.10.16"
  }
 },
 "nbformat": 4,
 "nbformat_minor": 2
}
